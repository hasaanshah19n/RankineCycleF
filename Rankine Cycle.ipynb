{
 "cells": [
  {
   "cell_type": "code",
   "execution_count": 32,
   "metadata": {},
   "outputs": [],
   "source": [
    "import numpy as np\n",
    "import matplotlib.pyplot as plt\n",
    "import pandas as pd\n",
    "from pyXSteam.XSteam import XSteam"
   ]
  },
  {
   "cell_type": "markdown",
   "metadata": {},
   "source": [
    "<h1>Setup<\\h1>   "
   ]
  },
  {
   "cell_type": "code",
   "execution_count": 33,
   "metadata": {},
   "outputs": [],
   "source": [
    "# Using m/kg/sec/°C/bar/W Units\n",
    "steamTable = XSteam(XSteam.UNIT_SYSTEM_MKS)\n",
    "\n",
    "# When looking into the Table make sure the above units are followed and other units to be followed when using the table include: KPa, KJ/kg"
   ]
  },
  {
   "cell_type": "code",
   "execution_count": 34,
   "metadata": {},
   "outputs": [],
   "source": [
    "# Conversion\n",
    "def MPatoBar(x):\n",
    "    return x*10\n",
    "\n",
    "def KPatoBar(x):\n",
    "    return x/100  \n",
    "\n",
    "def KPatoPa(x):\n",
    "    return x*1000\n",
    "\n",
    "def MPatoPa(x):\n",
    "    return x*pow(10,6)"
   ]
  },
  {
   "cell_type": "code",
   "execution_count": 35,
   "metadata": {},
   "outputs": [],
   "source": [
    "# Initial Conditions\n",
    "\n",
    "## State 1\n",
    "P1 = 10 #KPa\n",
    "X = 0\n",
    "\n",
    "## State 2\n",
    "P2 = 2 #Mpa\n",
    "\n",
    "## State 3\n",
    "T3 = 400 #Degree C"
   ]
  },
  {
   "cell_type": "markdown",
   "metadata": {},
   "source": [
    "<h1>Simple Rankine Cycle</h1>"
   ]
  },
  {
   "cell_type": "markdown",
   "metadata": {},
   "source": [
    "### Computation of work of the pump. To find this we must use the formula w_p = -v[p2-p1].\n",
    "- We have the both pressures at state1 and state2, but in order to find specific volume we can find v1 because we know that X=0 at state 1, below we will find v1 which will also be the same as v2."
   ]
  },
  {
   "cell_type": "code",
   "execution_count": 36,
   "metadata": {},
   "outputs": [],
   "source": [
    "P1Bar = KPatoBar(10)"
   ]
  },
  {
   "cell_type": "code",
   "execution_count": 37,
   "metadata": {},
   "outputs": [
    {
     "name": "stdout",
     "output_type": "stream",
     "text": [
      "0.0010102605727006792\n",
      "0.0010102605727006792\n"
     ]
    }
   ],
   "source": [
    "v1 = v2 = steamTable.vL_p(P1Bar)\n",
    "print(v1) #State1\n",
    "print(v2) #State2"
   ]
  },
  {
   "cell_type": "code",
   "execution_count": 38,
   "metadata": {},
   "outputs": [
    {
     "data": {
      "text/plain": [
       "-2010.4185396743517"
      ]
     },
     "execution_count": 38,
     "metadata": {},
     "output_type": "execute_result"
    }
   ],
   "source": [
    "w_p = -v1*(MPatoPa(P2)-KPatoPa(P1)) #The units for Work is Joules/kg\n",
    "w_p #Input this in thermal efficiency."
   ]
  },
  {
   "cell_type": "markdown",
   "metadata": {},
   "source": [
    "### Computation of heat entering which is q_in. To find this we must us the formula  q_in = h3-h2."
   ]
  },
  {
   "cell_type": "markdown",
   "metadata": {},
   "source": [
    "- We need to find h2 and h3. To find h2 we can simply use w_pump = (h1-h2)"
   ]
  },
  {
   "cell_type": "code",
   "execution_count": 39,
   "metadata": {},
   "outputs": [
    {
     "data": {
      "text/plain": [
       "193822.71373323875"
      ]
     },
     "execution_count": 39,
     "metadata": {},
     "output_type": "execute_result"
    }
   ],
   "source": [
    "# First we need to find h1 & h2.\n",
    "h1 = steamTable.hL_p(P1Bar)*1000\n",
    "h2 = h1 - w_p\n",
    "h2"
   ]
  },
  {
   "cell_type": "markdown",
   "metadata": {},
   "source": [
    "- We now need to find h3"
   ]
  },
  {
   "cell_type": "code",
   "execution_count": 40,
   "metadata": {},
   "outputs": [
    {
     "data": {
      "text/plain": [
       "3054404.3623039564"
      ]
     },
     "execution_count": 40,
     "metadata": {},
     "output_type": "execute_result"
    }
   ],
   "source": [
    "# We should that pressure at state 1 and 4 are equal to one another and same applieS for pressures at state 2 and 3.\n",
    "P4 = P1\n",
    "P3 = P2\n",
    "\n",
    "#Now we can easily solve for h3 since we have two independent intensive properties pressure and temperature.\n",
    "h3 = steamTable.h_pt(MPatoBar(P3),T3)*1000\n",
    "h3\n",
    "\n",
    "q_in = h3-h2\n",
    "q_in"
   ]
  },
  {
   "cell_type": "markdown",
   "metadata": {},
   "source": [
    "### Computation of Turbine, Work Output. To calculate this we can simply use w_t = h3-h4"
   ]
  },
  {
   "cell_type": "code",
   "execution_count": 41,
   "metadata": {},
   "outputs": [],
   "source": [
    "# We already have h3, therefore we need to find h4.\n",
    "# The only way to solve this is to use s3=s4\n",
    "\n",
    "# Find s3 first:\n",
    "s3 = steamTable.s_pt(MPatoBar(P3),T3)*1000\n",
    "s4 = s3\n",
    "\n",
    "# Now that we have two independent intensive property pressure and entropy for state 4, we can find h4:\n",
    "h4 = steamTable.h_ps(KPatoBar(P4),s4/1000)*1000\n",
    "h4\n",
    "\n",
    "w_t = h3-h4"
   ]
  },
  {
   "cell_type": "markdown",
   "metadata": {},
   "source": [
    "### Computation of the Thermal Efficiency: Efficiency = w_net/q_in = w_t-w_p/q_in"
   ]
  },
  {
   "cell_type": "code",
   "execution_count": 42,
   "metadata": {},
   "outputs": [],
   "source": [
    "Efficiency = (w_t-abs(w_p))/q_in\n",
    "PercentEfficiency = Efficiency*100"
   ]
  },
  {
   "cell_type": "markdown",
   "metadata": {},
   "source": [
    "### Computation of the Quality at the Exit of the Turbine:"
   ]
  },
  {
   "cell_type": "code",
   "execution_count": 43,
   "metadata": {},
   "outputs": [
    {
     "data": {
      "text/plain": [
       "0.8640032317600288"
      ]
     },
     "execution_count": 43,
     "metadata": {},
     "output_type": "execute_result"
    }
   ],
   "source": [
    "x4 = steamTable.x_ps(KPatoBar(P4),s4/1000)\n",
    "x4"
   ]
  },
  {
   "cell_type": "markdown",
   "metadata": {},
   "source": [
    "### Final Conditions, run the below cell code at the end!"
   ]
  },
  {
   "cell_type": "code",
   "execution_count": 44,
   "metadata": {},
   "outputs": [
    {
     "name": "stdout",
     "output_type": "stream",
     "text": [
      "State 1:\n",
      "P1 = 10 KPa\n",
      "X1 = 0\n",
      "v1 = 0.0010102605727006792 m^3/kg\n",
      "h1 = 191812.2951935644 J/kg\n",
      "\n",
      "\n",
      "State 2:\n",
      "P2 = 2 MPa\n",
      "v2 = 0.0010102605727006792 m^3/kg\n",
      "h2 = 193822.71373323875 J/kg\n",
      "\n",
      "\n",
      "State 3:\n",
      "P3 = 2 MPa\n",
      "T3 = 400\n",
      "h3 = 3248227.076037195 J/kg\n",
      "s3 = 7128.96169238721 J/kg\n",
      "\n",
      "\n",
      "State 4:\n",
      "P4 = 10 KPa\n",
      "s4 = 7128.96169238721 J/kg\n",
      "h4 = 2258572.516475397 J/kg\n",
      "\n",
      "\n",
      "Information to find thermal efficiency:\n",
      "Work Pump = -2010.4185396743517 J/kg\n",
      "Heat Input = 3054404.3623039564 J/kg\n",
      "Work Turbine = 989654.5595617979 J/kg\n",
      "\n",
      "\n",
      "The efficiency of the system is: 32.335081537047614%\n",
      "The quality of the exit of the turbine is: 86.40032317600289%\n"
     ]
    }
   ],
   "source": [
    "# All Conditions\n",
    "\n",
    "print(\"State 1:\")\n",
    "print(\"P1 = \" + repr(P1) + \" KPa\")\n",
    "print(\"X1 = \" + repr(0))\n",
    "print(\"v1 = \" + repr(v1) + \" m^3/kg\")\n",
    "print(\"h1 = \" + repr(h1) + \" J/kg\")\n",
    "\n",
    "print(\"\\n\")\n",
    "\n",
    "print(\"State 2:\")\n",
    "print(\"P2 = \" + repr(P2) + \" MPa\")\n",
    "print(\"v2 = \" + repr(v2) + \" m^3/kg\")\n",
    "print(\"h2 = \" + repr(h2) + \" J/kg\")\n",
    "\n",
    "print(\"\\n\")\n",
    "\n",
    "print(\"State 3:\")\n",
    "print(\"P3 = \" + repr(P3) + \" MPa\")\n",
    "print(\"T3 = \" + repr(T3))\n",
    "print(\"h3 = \" + repr(h3) + \" J/kg\")\n",
    "print(\"s3 = \" + repr(s3) + \" J/kg\")\n",
    "\n",
    "print(\"\\n\")\n",
    "\n",
    "print(\"State 4:\")\n",
    "print(\"P4 = \" + repr(P4) + \" KPa\")\n",
    "print(\"s4 = \" + repr(s4) + \" J/kg\")\n",
    "print(\"h4 = \" + repr(h4) + \" J/kg\")\n",
    "\n",
    "print(\"\\n\")\n",
    "\n",
    "print(\"Information to find thermal efficiency:\")\n",
    "print(\"Work Pump = \" + repr(w_p) + \" J/kg\")\n",
    "print(\"Heat Input = \" + repr(q_in) + \" J/kg\")\n",
    "print(\"Work Turbine = \" + repr(w_t) + \" J/kg\")\n",
    "\n",
    "print(\"\\n\")\n",
    "\n",
    "print(\"The efficiency of the system is: \" + repr(PercentEfficiency) + \"%\")\n",
    "print(\"The quality of the exit of the turbine is: \" + repr(x4*100) + \"%\")"
   ]
  },
  {
   "cell_type": "markdown",
   "metadata": {},
   "source": [
    "# Also if you neglect the work of the pump making it zero you will notice that it does not change any values by much and therefore in the future we will always neglect the work of the pump compared to the work of a turbine in a Rankine Cycle."
   ]
  },
  {
   "cell_type": "code",
   "execution_count": 2,
   "metadata": {},
   "outputs": [
    {
     "name": "stdout",
     "output_type": "stream",
     "text": [
      "# packages in environment at C:\\Users\\hasaa\\Documents\\Anaconda\\env:\n",
      "#\n",
      "# Name                    Version                   Build  Channel\n",
      "anyio                     2.0.2            py38haa244fe_2    conda-forge\n",
      "argon2-cffi               20.1.0           py38he774522_1  \n",
      "async_generator           1.10                       py_0  \n",
      "attrs                     20.3.0             pyhd3eb1b0_0  \n",
      "babel                     2.9.0              pyhd3deb0d_0    conda-forge\n",
      "backcall                  0.2.0                      py_0  \n",
      "blas                      1.0                         mkl  \n",
      "bleach                    3.2.1                      py_0  \n",
      "brotlipy                  0.7.0           py38hab1e662_1001    conda-forge\n",
      "ca-certificates           2020.12.5            h5b45459_0    conda-forge\n",
      "certifi                   2020.12.5        py38haa244fe_0    conda-forge\n",
      "cffi                      1.14.4           py38hcd4344a_0  \n",
      "chardet                   4.0.0            py38haa244fe_0    conda-forge\n",
      "colorama                  0.4.4              pyhd3eb1b0_0  \n",
      "cryptography              3.3.1            py38hd8c33c5_0    conda-forge\n",
      "cycler                    0.10.0                   py38_0  \n",
      "decorator                 4.4.2                      py_0  \n",
      "defusedxml                0.6.0                      py_0  \n",
      "entrypoints               0.3                      py38_0  \n",
      "freetype                  2.10.4               hd328e21_0  \n",
      "icc_rt                    2019.0.0             h0cc432a_1  \n",
      "icu                       58.2                 ha925a31_3  \n",
      "idna                      2.10               pyh9f0ad1d_0    conda-forge\n",
      "importlib-metadata        2.0.0                      py_1  \n",
      "importlib_metadata        2.0.0                         1  \n",
      "intel-openmp              2020.2                      254  \n",
      "ipykernel                 5.3.4            py38h5ca1d4c_0  \n",
      "ipython                   7.19.0           py38hd4e2768_0  \n",
      "ipython_genutils          0.2.0              pyhd3eb1b0_1  \n",
      "ipywidgets                7.6.0              pyhd3eb1b0_1  \n",
      "jedi                      0.18.0           py38haa95532_0  \n",
      "jinja2                    2.11.2                     py_0  \n",
      "joblib                    1.0.0              pyhd3eb1b0_0  \n",
      "jpeg                      9b                   hb83a4c4_2  \n",
      "json5                     0.9.5              pyh9f0ad1d_0    conda-forge\n",
      "jsonschema                3.2.0                      py_2  \n",
      "jupyter                   1.0.0                    py38_7  \n",
      "jupyter_client            6.1.7                      py_0  \n",
      "jupyter_console           6.2.0                      py_0  \n",
      "jupyter_core              4.7.0            py38haa95532_0  \n",
      "jupyter_server            1.1.3            py38haa244fe_0    conda-forge\n",
      "jupyterlab                3.0.0              pyhd8ed1ab_0    conda-forge\n",
      "jupyterlab_pygments       0.1.2                      py_0  \n",
      "jupyterlab_server         2.0.0              pyhd8ed1ab_0    conda-forge\n",
      "kiwisolver                1.3.0            py38hd77b12b_0  \n",
      "libpng                    1.6.37               h2a8f88b_0  \n",
      "libsodium                 1.0.18               h62dcd97_0  \n",
      "libtiff                   4.1.0                h56a325e_1  \n",
      "lz4-c                     1.9.2                hf4a77e7_3  \n",
      "m2w64-gcc-libgfortran     5.3.0                         6  \n",
      "m2w64-gcc-libs            5.3.0                         7  \n",
      "m2w64-gcc-libs-core       5.3.0                         7  \n",
      "m2w64-gmp                 6.1.0                         2  \n",
      "m2w64-libwinpthread-git   5.0.0.4634.697f757               2  \n",
      "markupsafe                1.1.1            py38he774522_0  \n",
      "matplotlib                3.3.2                haa95532_0  \n",
      "matplotlib-base           3.3.2            py38hba9282a_0  \n",
      "mistune                   0.8.4           py38he774522_1000  \n",
      "mkl                       2020.2                      256  \n",
      "mkl-service               2.3.0            py38h196d8e1_0  \n",
      "mkl_fft                   1.2.0            py38h45dec08_0  \n",
      "mkl_random                1.1.1            py38h47e9c7a_0  \n",
      "msys2-conda-epoch         20160418                      1  \n",
      "nbclassic                 0.2.5              pyhd8ed1ab_0    conda-forge\n",
      "nbclient                  0.5.1                      py_0  \n",
      "nbconvert                 6.0.7                    py38_0  \n",
      "nbformat                  5.0.8                      py_0  \n",
      "nest-asyncio              1.4.3              pyhd3eb1b0_0  \n",
      "notebook                  6.1.6            py38haa95532_0  \n",
      "numpy                     1.19.3                   pypi_0    pypi\n",
      "olefile                   0.46                       py_0  \n",
      "openssl                   1.1.1i               h8ffe710_0    conda-forge\n",
      "packaging                 20.8               pyhd3eb1b0_0  \n",
      "pandas                    1.1.5            py38hf11a4ad_0  \n",
      "pandoc                    2.11                 h9490d1a_0  \n",
      "pandocfilters             1.4.3            py38haa95532_1  \n",
      "parso                     0.7.0                      py_0  \n",
      "pickleshare               0.7.5           pyhd3eb1b0_1003  \n",
      "pillow                    8.0.1            py38h4fa10fc_0  \n",
      "pip                       20.3.3           py38haa95532_0  \n",
      "prometheus_client         0.9.0              pyhd3eb1b0_0  \n",
      "prompt-toolkit            3.0.8                      py_0  \n",
      "prompt_toolkit            3.0.8                         0  \n",
      "pycparser                 2.20                       py_2  \n",
      "pygments                  2.7.3              pyhd3eb1b0_0  \n",
      "pyopenssl                 20.0.1             pyhd8ed1ab_0    conda-forge\n",
      "pyparsing                 2.4.7                      py_0  \n",
      "pyqt                      5.9.2            py38ha925a31_4  \n",
      "pyrsistent                0.17.3           py38he774522_0  \n",
      "\n",
      "Note: you may need to restart the kernel to use updated packages.\n",
      "pysocks                   1.7.1            py38h9bdc248_2    conda-forge\n",
      "python                    3.8.5                h5fd99cc_1  \n",
      "python-dateutil           2.8.1                      py_0  \n",
      "python_abi                3.8                      1_cp38    conda-forge\n",
      "pytz                      2020.5             pyhd3eb1b0_0  \n",
      "pywin32                   227              py38he774522_1  \n",
      "pywinpty                  0.5.7                    py38_0  \n",
      "pyxsteam                  0.4.7                    pypi_0    pypi\n",
      "pyzmq                     20.0.0           py38h758134e_0    conda-forge\n",
      "qt                        5.9.7            vc14h73c81de_0  \n",
      "qtconsole                 4.7.7                      py_0  \n",
      "qtpy                      1.9.0                      py_0  \n",
      "requests                  2.25.1             pyhd3deb0d_0    conda-forge\n",
      "scikit-learn              0.23.2           py38h47e9c7a_0  \n",
      "scipy                     1.5.2            py38h14eb087_0  \n",
      "send2trash                1.5.0              pyhd3eb1b0_1  \n",
      "setuptools                51.0.0           py38haa95532_2  \n",
      "sip                       4.19.13          py38ha925a31_0  \n",
      "six                       1.15.0           py38haa95532_0  \n",
      "sniffio                   1.2.0            py38haa244fe_0    conda-forge\n",
      "sqlite                    3.33.0               h2a8f88b_0  \n",
      "terminado                 0.9.1                    py38_0  \n",
      "testpath                  0.4.4                      py_0  \n",
      "threadpoolctl             2.1.0              pyh5ca1d4c_0  \n",
      "tk                        8.6.10               he774522_0  \n",
      "tornado                   6.1              py38h2bbff1b_0  \n",
      "traitlets                 5.0.5                      py_0  \n",
      "urllib3                   1.26.2             pyhd8ed1ab_0    conda-forge\n",
      "vc                        14.2                 h21ff451_1  \n",
      "vs2015_runtime            14.27.29016          h5e58377_2  \n",
      "wcwidth                   0.2.5                      py_0  \n",
      "webencodings              0.5.1                    py38_1  \n",
      "wheel                     0.36.2             pyhd3eb1b0_0  \n",
      "widgetsnbextension        3.5.1                    py38_0  \n",
      "win_inet_pton             1.1.0            py38h32f6830_1    conda-forge\n",
      "wincertstore              0.2                      py38_0  \n",
      "winpty                    0.4.3                         4  \n",
      "xeus                      0.25.3               h8eaec7c_0    conda-forge\n",
      "xz                        5.2.5                h62dcd97_0  \n",
      "zeromq                    4.3.2                h0e60522_5    conda-forge\n",
      "zipp                      3.4.0              pyhd3eb1b0_0  \n",
      "zlib                      1.2.11               h62dcd97_4  \n",
      "zstd                      1.4.5                h04227a9_0  \n"
     ]
    }
   ],
   "source": [
    "conda list"
   ]
  },
  {
   "cell_type": "code",
   "execution_count": 1,
   "metadata": {},
   "outputs": [
    {
     "name": "stdout",
     "output_type": "stream",
     "text": [
      "Package             Version\n",
      "------------------- -------------------\n",
      "anyio               2.0.2\n",
      "argon2-cffi         20.1.0\n",
      "async-generator     1.10\n",
      "attrs               20.3.0\n",
      "Babel               2.9.0\n",
      "backcall            0.2.0\n",
      "bleach              3.2.1\n",
      "brotlipy            0.7.0\n",
      "certifi             2020.12.5\n",
      "cffi                1.14.4\n",
      "chardet             4.0.0\n",
      "colorama            0.4.4\n",
      "cryptography        3.3.1\n",
      "cycler              0.10.0\n",
      "decorator           4.4.2\n",
      "defusedxml          0.6.0\n",
      "entrypoints         0.3\n",
      "idna                2.10\n",
      "importlib-metadata  2.0.0\n",
      "ipykernel           5.3.4\n",
      "ipython             7.19.0\n",
      "ipython-genutils    0.2.0\n",
      "ipywidgets          7.6.0\n",
      "jedi                0.18.0\n",
      "Jinja2              2.11.2\n",
      "joblib              1.0.0\n",
      "json5               0.9.5\n",
      "jsonschema          3.2.0\n",
      "jupyter             1.0.0\n",
      "jupyter-client      6.1.7\n",
      "jupyter-console     6.2.0\n",
      "jupyter-core        4.7.0\n",
      "jupyter-server      1.1.3\n",
      "jupyterlab          3.0.0\n",
      "jupyterlab-pygments 0.1.2\n",
      "jupyterlab-server   2.0.0\n",
      "kiwisolver          1.3.0\n",
      "MarkupSafe          1.1.1\n",
      "matplotlib          3.3.2\n",
      "mistune             0.8.4\n",
      "mkl-fft             1.2.0\n",
      "mkl-random          1.1.1\n",
      "mkl-service         2.3.0\n",
      "nbclassic           0.2.5\n",
      "nbclient            0.5.1\n",
      "nbconvert           6.0.7\n",
      "nbformat            5.0.8\n",
      "nest-asyncio        1.4.3\n",
      "notebook            6.1.6\n",
      "numpy               1.19.3\n",
      "olefile             0.46\n",
      "packaging           20.8\n",
      "pandas              1.1.5\n",
      "pandocfilters       1.4.3\n",
      "parso               0.7.0\n",
      "pickleshare         0.7.5\n",
      "Pillow              8.0.1\n",
      "pip                 20.3.3\n",
      "prometheus-client   0.9.0\n",
      "prompt-toolkit      3.0.8\n",
      "pycparser           2.20\n",
      "Pygments            2.7.3\n",
      "pyOpenSSL           20.0.1\n",
      "pyparsing           2.4.7\n",
      "pyrsistent          0.17.3\n",
      "PySocks             1.7.1\n",
      "python-dateutil     2.8.1\n",
      "pytz                2020.5\n",
      "pywin32             227\n",
      "pywinpty            0.5.7\n",
      "pyXSteam            0.4.7\n",
      "pyzmq               20.0.0\n",
      "qtconsole           4.7.7\n",
      "QtPy                1.9.0\n",
      "requests            2.25.1\n",
      "scikit-learn        0.23.2\n",
      "scipy               1.5.2\n",
      "Send2Trash          1.5.0\n",
      "setuptools          51.0.0.post20201207\n",
      "sip                 4.19.13\n",
      "six                 1.15.0\n",
      "sniffio             1.2.0\n",
      "terminado           0.9.1\n",
      "testpath            0.4.4\n",
      "threadpoolctl       2.1.0\n",
      "tornado             6.1\n",
      "traitlets           5.0.5\n",
      "urllib3             1.26.2\n",
      "wcwidth             0.2.5\n",
      "webencodings        0.5.1\n",
      "wheel               0.36.2\n",
      "widgetsnbextension  3.5.1\n",
      "win-inet-pton       1.1.0\n",
      "wincertstore        0.2\n",
      "zipp                3.4.0\n",
      "Note: you may need to restart the kernel to use updated packages.\n"
     ]
    }
   ],
   "source": [
    "pip list"
   ]
  },
  {
   "cell_type": "code",
   "execution_count": null,
   "metadata": {},
   "outputs": [],
   "source": []
  }
 ],
 "metadata": {
  "kernelspec": {
   "display_name": "Python 3",
   "language": "python",
   "name": "python3"
  },
  "language_info": {
   "codemirror_mode": {
    "name": "ipython",
    "version": 3
   },
   "file_extension": ".py",
   "mimetype": "text/x-python",
   "name": "python",
   "nbconvert_exporter": "python",
   "pygments_lexer": "ipython3",
   "version": "3.8.5"
  }
 },
 "nbformat": 4,
 "nbformat_minor": 5
}
